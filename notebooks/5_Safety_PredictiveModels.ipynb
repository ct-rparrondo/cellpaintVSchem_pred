{
 "cells": [
  {
   "cell_type": "markdown",
   "metadata": {},
   "source": [
    "# Safety predictive models\n",
    "\n",
    "We trained Gradient Boosting and XGBoost models, using Optuna framework to carefully tune classifier hyperparameters, for each combination of safety endpoint (totalling 999 Preferred Terms, or side effects) and input data modality, including: Cell Painting features, RDKit 1D descriptors, ECFP4 fingerprints, Mordred descriptors, and Physicochemical properties.\n",
    "\n",
    "For each descriptor type, we used the test set (20%) and different classification metrics for assessing the prediction model performance: Balanced Accuracy, Precision, Recall, F<sub>1</sub>-score, Area Under Curve-Receiver Operating Characteristic (AUC-ROC), Area Under Curve-Precision Recall (PRAUC or average precision, AP), and MCC (Matthews Correlation Coefficient)."
   ]
  },
  {
   "cell_type": "code",
   "execution_count": null,
   "metadata": {},
   "outputs": [],
   "source": [
    "# Standard Library Imports\n",
    "from itertools import combinations_with_replacement\n",
    "\n",
    "# Third-Party Imports\n",
    "from scipy.stats import ks_2samp\n",
    "\n",
    "# Local Imports\n",
    "from src.utils import *"
   ]
  },
  {
   "cell_type": "markdown",
   "metadata": {},
   "source": [
    "## Loading of data"
   ]
  },
  {
   "cell_type": "code",
   "execution_count": null,
   "metadata": {},
   "outputs": [],
   "source": [
    "# Some specifications\n",
    "missing_cpd = 'FFINMCNLQNTKLU-UHFFFAOYSA-N'"
   ]
  },
  {
   "cell_type": "code",
   "execution_count": null,
   "metadata": {},
   "outputs": [],
   "source": [
    "# Create the complete dataset for each molecular representation\n",
    "# Cell Painting features\n",
    "cp_pt_data = create_complete_dataset('1_data/CellPainting_data_feature_selection.csv', '5_data/PT_binary_matrix.csv')\n",
    "cp_pt_data = cp_pt_data[cp_pt_data['CPD_INCHIKEY'] != missing_cpd] # remove the missing compound in the PC dataset\n",
    "cp_pt_data.shape"
   ]
  },
  {
   "cell_type": "code",
   "execution_count": null,
   "metadata": {},
   "outputs": [],
   "source": [
    "# RDKit 1D descriptors\n",
    "desc_pt_data = create_complete_dataset('2_data/CPcompounds_1D_RDKit.tsv', '5_data/PT_binary_matrix.csv')\n",
    "desc_pt_data = desc_pt_data[desc_pt_data['CPD_INCHIKEY'] != missing_cpd] # remove the missing compound in the PC dataset\n",
    "desc_pt_data.shape"
   ]
  },
  {
   "cell_type": "code",
   "execution_count": null,
   "metadata": {},
   "outputs": [],
   "source": [
    "# ECFP4 fingerprints\n",
    "ecfp4_pt_data = create_complete_dataset('2_data/CPcompounds_ECFP4_1024.tsv', '5_data/PT_binary_matrix.csv')\n",
    "ecfp4_pt_data = ecfp4_pt_data[ecfp4_pt_data['CPD_INCHIKEY'] != missing_cpd] # remove the missing compound in the PC dataset\n",
    "ecfp4_pt_data.shape"
   ]
  },
  {
   "cell_type": "code",
   "execution_count": null,
   "metadata": {},
   "outputs": [],
   "source": [
    "# Mordred descriptors\n",
    "mordred_pt_data = create_complete_dataset('2_data/CPcompounds_Mordred.tsv', '5_data/PT_binary_matrix.csv')\n",
    "mordred_pt_data = mordred_pt_data[mordred_pt_data['CPD_INCHIKEY'] != missing_cpd] # remove the missing compound in the PC dataset\n",
    "mordred_pt_data.shape"
   ]
  },
  {
   "cell_type": "code",
   "execution_count": null,
   "metadata": {},
   "outputs": [],
   "source": [
    "# Physicochemical properties\n",
    "pc_pt_data = create_complete_dataset('2_data/CPcompounds_physicochemical_properties.tsv', '5_data/PT_binary_matrix.csv')\n",
    "pc_pt_data = pc_pt_data.drop(columns=['pc_logBB', 'pc_pgp'])\n",
    "pc_pt_data.shape"
   ]
  },
  {
   "cell_type": "markdown",
   "metadata": {},
   "source": [
    "## Training and Evaluating the predictive indiviual models"
   ]
  },
  {
   "cell_type": "code",
   "execution_count": null,
   "metadata": {},
   "outputs": [],
   "source": [
    "# Train and evaluate predictive models for each descriptor type\n",
    "# Cell Painting features\n",
    "cp_results = se_model_training_and_evaluation(cp_pt_data, endpoint='all', check_endpoint_distribution=False, optuna_trials=50, \n",
    "                                              verbose_optuna=False, plot_loss_model=False, plot_results=False, plot_feature_importance=False, \n",
    "                                              results_filename='cp_safety_results.tsv')\n",
    "cp_results"
   ]
  },
  {
   "cell_type": "code",
   "execution_count": null,
   "metadata": {},
   "outputs": [],
   "source": [
    "# RDKit 1D descriptors\n",
    "desc_results = se_model_training_and_evaluation(desc_pt_data, endpoint='all', check_endpoint_distribution=False, optuna_trials=50, \n",
    "                                                verbose_optuna=False, plot_loss_model=False, plot_results=False, plot_feature_importance=False, \n",
    "                                                results_filename='desc_safety_results.tsv')\n",
    "desc_results"
   ]
  },
  {
   "cell_type": "code",
   "execution_count": null,
   "metadata": {},
   "outputs": [],
   "source": [
    "# ECFP4 fingerprints\n",
    "ecfp4_results = se_model_training_and_evaluation(ecfp4_pt_data, endpoint='all', check_endpoint_distribution=False, optuna_trials=50, \n",
    "                                                 verbose_optuna=False, plot_loss_model=False, plot_results=False, plot_feature_importance=False, \n",
    "                                                 results_filename='ecfp4_safety_results.tsv')\n",
    "ecfp4_results"
   ]
  },
  {
   "cell_type": "code",
   "execution_count": null,
   "metadata": {},
   "outputs": [],
   "source": [
    "# Mordred descriptors\n",
    "mordred_results = se_model_training_and_evaluation(mordred_pt_data, endpoint='all', check_endpoint_distribution=False, optuna_trials=50, \n",
    "                                                   verbose_optuna=False, plot_loss_model=False, plot_results=False, plot_feature_importance=False, \n",
    "                                                   results_filename='mordred_safety_results.tsv')\n",
    "mordred_results"
   ]
  },
  {
   "cell_type": "code",
   "execution_count": null,
   "metadata": {},
   "outputs": [],
   "source": [
    "# Physicochemical properties\n",
    "pc_results = se_model_training_and_evaluation(pc_pt_data, endpoint='all', check_endpoint_distribution=False, optuna_trials=50, \n",
    "                                              verbose_optuna=False, plot_loss_model=False, plot_results=False, plot_feature_importance=False, \n",
    "                                              results_filename='pc_safety_results.tsv')\n",
    "pc_results"
   ]
  },
  {
   "cell_type": "markdown",
   "metadata": {},
   "source": [
    "## Analysing the results\n",
    "\n",
    "### Loading the results"
   ]
  },
  {
   "cell_type": "code",
   "execution_count": null,
   "metadata": {},
   "outputs": [],
   "source": [
    "# Load the individual results\n",
    "cp_results = pd.read_csv('data/5_data/cp_safety_results.tsv', sep='\\t')\n",
    "desc_results = pd.read_csv('data/5_data/desc_safety_results.tsv', sep='\\t')\n",
    "ecfp4_results = pd.read_csv('data/5_data/ecfp4_safety_results.tsv', sep='\\t')\n",
    "mordred_results = pd.read_csv('data/5_data/mordred_safety_results.tsv', sep='\\t')\n",
    "pc_results = pd.read_csv('data/5_data/pc_safety_results.tsv', sep='\\t')"
   ]
  },
  {
   "cell_type": "markdown",
   "metadata": {},
   "source": [
    "### Medical Dictionary for Regulatory Activities (MedDRA) classification\n",
    "\n",
    "Medical Dictionary for Regulatory Activities (MedDRA) classification is a comprehensive, standardized medical terminology used to facilitate the sharing of regulatory information about medical products. This classification system is hierarchical, from broad categories to precise terms: System Organ Class (SOC), High-Level Group Terms (HLGT), High-Level Terms (HLT), and Preferred Terms (PT). \n",
    "\n",
    "Subsequenntly, we use these MedDRA terms to perform enrichment analyses to identify over-represented medical themes within the identified side-effect sets."
   ]
  },
  {
   "cell_type": "code",
   "execution_count": null,
   "metadata": {},
   "outputs": [],
   "source": [
    "# Classify the PTs to MedDRA categories for each data modality\n",
    "cp_to_meddra = classify_pt_to_meddra(cp_results)\n",
    "desc_to_meddra = classify_pt_to_meddra(desc_results)\n",
    "ecfp4_to_meddra = classify_pt_to_meddra(ecfp4_results)\n",
    "mordred_to_meddra = classify_pt_to_meddra(mordred_results)\n",
    "pc_to_meddra = classify_pt_to_meddra(pc_results)"
   ]
  },
  {
   "cell_type": "markdown",
   "metadata": {},
   "source": [
    "### Enrichment analysis of HLTs, HLGTs, and SOCs"
   ]
  },
  {
   "cell_type": "code",
   "execution_count": null,
   "metadata": {},
   "outputs": [],
   "source": [
    "# Define the subset of PTs uniquely predicted by Cell Painting\n",
    "unique_cp = [10007554, 10022998, 10028625, 10082214, 10016173, 10039109, 10003693, 10057666, 10065612, 10061117, 10038153, 10012601, 10067584, 10001053, 10003481, 10034835]\n",
    "# Classify these PTs to MedDRA categories\n",
    "unique_cp_to_meddra = classify_pt_to_meddra(cp_results.loc[cp_results['safety_endpoint'].isin(unique_cp)])\n",
    "\n",
    "# Classify all PTs to MedDRA categories\n",
    "all_pt_to_meddra = classify_pt_to_meddra(cp_results)\n",
    "\n",
    "# Perfomr the enrichment analysis\n",
    "meddra_enrichment_analysis = fisher_exact_test_on_MedDRA_terms(unique_cp_to_meddra, all_pt_to_meddra, meddra_level='hlt')\n",
    "meddra_enrichment_analysis"
   ]
  },
  {
   "cell_type": "markdown",
   "metadata": {},
   "source": [
    "# EARLY DATA FUSION\n",
    "\n",
    "The first strategy to combine information from different source is early data fusion, where feature vectors from two or more modalities are simply concatenated into a single vector.\n",
    "\n",
    "In the early fusion approach, we perform simple feature selection to reduce feature set's dimensions, using the SelectKBest function to identify the 1,000 most correlated features with the label.\n",
    "\n",
    "### Combining data modalities"
   ]
  },
  {
   "cell_type": "code",
   "execution_count": null,
   "metadata": {},
   "outputs": [],
   "source": [
    "# Combine descriptor types\n",
    "# RDKit 1D, Mordred, PC\n",
    "desc_mordred_pc_pt_data = combine_data_sources(desc_pt_data, mordred_pt_data, pc_pt_data)\n",
    "desc_mordred_pc_pt_data.shape"
   ]
  },
  {
   "cell_type": "code",
   "execution_count": null,
   "metadata": {},
   "outputs": [],
   "source": [
    "# CP, ECFP4\n",
    "cp_ecfp4_pt_data = combine_data_sources(cp_pt_data, ecfp4_pt_data)\n",
    "cp_ecfp4_pt_data.shape"
   ]
  },
  {
   "cell_type": "code",
   "execution_count": null,
   "metadata": {},
   "outputs": [],
   "source": [
    "# CP, RDKit 1D, Mordred, PC\n",
    "cp_desc_mordred_pc_pt_data = combine_data_sources(cp_pt_data, desc_mordred_pc_pt_data)\n",
    "cp_desc_mordred_pc_pt_data.shape"
   ]
  },
  {
   "cell_type": "code",
   "execution_count": null,
   "metadata": {},
   "outputs": [],
   "source": [
    "# ECFP4, RDKit 1D, Mordred, PC \n",
    "ecfp4_desc_mordred_pc_pt_data = combine_data_sources(ecfp4_pt_data, desc_mordred_pc_pt_data)\n",
    "ecfp4_desc_mordred_pc_pt_data.shape"
   ]
  },
  {
   "cell_type": "code",
   "execution_count": null,
   "metadata": {},
   "outputs": [],
   "source": [
    "# CP, ECFP4, RDKit 1D, Mordred, PC\n",
    "cp_ecfp4_desc_mordred_pc_pt_data = combine_data_sources(cp_pt_data, ecfp4_desc_mordred_pc_pt_data)\n",
    "cp_ecfp4_desc_mordred_pc_pt_data.shape"
   ]
  },
  {
   "cell_type": "markdown",
   "metadata": {},
   "source": [
    "### Training and Evaluating the early-stage Models"
   ]
  },
  {
   "cell_type": "code",
   "execution_count": null,
   "metadata": {},
   "outputs": [],
   "source": [
    "# Train and evaluate predictive models for each combination of descriptors\n",
    "# RDKit 1D, Mordred, PC\n",
    "desc_mordred_pc_results = se_early_fusion_model_training_and_evaluation(desc_mordred_pc_pt_data, endpoint='all', k_features=1000, check_endpoint_distribution=False, optuna_trials=50,\n",
    "                                                        verbose_optuna=False, plot_loss_model=False, plot_results=False, plot_feature_importance=False, \n",
    "                                                        results_filename='desc_mordred_pc_safety_results.tsv')\n",
    "desc_mordred_pc_results"
   ]
  },
  {
   "cell_type": "code",
   "execution_count": null,
   "metadata": {},
   "outputs": [],
   "source": [
    "# CP, ECFP4\n",
    "cp_ecfp4_results = se_early_fusion_model_training_and_evaluation(cp_ecfp4_pt_data, endpoint='all', k_features=1000, check_endpoint_distribution=False, optuna_trials=50,\n",
    "                                                 verbose_optuna=False, plot_loss_model=False, plot_results=False, plot_feature_importance=False, \n",
    "                                                 results_filename='cp_ecfp4_safety_results.tsv')\n",
    "cp_ecfp4_results"
   ]
  },
  {
   "cell_type": "code",
   "execution_count": null,
   "metadata": {},
   "outputs": [],
   "source": [
    "# CP, RDKit 1D, Mordred, PC\n",
    "cp_desc_mordred_pc_results = se_early_fusion_model_training_and_evaluation(cp_desc_mordred_pc_pt_data, endpoint='all', k_features=1000, check_endpoint_distribution=False, optuna_trials=50,\n",
    "                                                           verbose_optuna=False, plot_loss_model=False, plot_results=False, plot_feature_importance=False, \n",
    "                                                           results_filename='cp_desc_mordred_pc_safety_results.tsv')\n",
    "cp_desc_mordred_pc_results"
   ]
  },
  {
   "cell_type": "code",
   "execution_count": null,
   "metadata": {},
   "outputs": [],
   "source": [
    "# ECFP4, RDKit 1D, Mordred, PC \n",
    "ecfp4_desc_mordred_pc_results = se_early_fusion_model_training_and_evaluation(ecfp4_desc_mordred_pc_pt_data, endpoint='all', k_features=1000, check_endpoint_distribution=False, optuna_trials=50,\n",
    "                                                              verbose_optuna=False, plot_loss_model=False, plot_results=False, plot_feature_importance=False, \n",
    "                                                              results_filename='ecfp4_desc_mordred_pc_safety_results.tsv')\n",
    "ecfp4_desc_mordred_pc_results"
   ]
  },
  {
   "cell_type": "code",
   "execution_count": null,
   "metadata": {},
   "outputs": [],
   "source": [
    "# CP, ECFP4, RDKit 1D, Mordred, PC\n",
    "cp_ecfp4_desc_mordred_pc_results = se_early_fusion_model_training_and_evaluation(cp_ecfp4_desc_mordred_pc_pt_data, endpoint='all', k_features=1000, check_endpoint_distribution=False, optuna_trials=50,\n",
    "                                                                 verbose_optuna=False, plot_loss_model=False, plot_results=False, plot_feature_importance=False, \n",
    "                                                                 results_filename='cp_ecfp4_desc_mordred_pc_safety.tsv')\n",
    "cp_ecfp4_desc_mordred_pc_results"
   ]
  },
  {
   "cell_type": "markdown",
   "metadata": {},
   "source": [
    "# LATE DATA FUSION\n",
    "\n",
    "The second strategy to combine information from different sources is late data fusion, wherein each modality is used to train a separate model and then the prediction probabilities for a new sample are aggregated using different strategies.\n",
    "\n",
    "In the late fusion approach, we employ six multi-modal fusion methods to aggregate probabilities from the classifiers trained on each modality separately: Average, Voting, Maximal, Weighted Average, Weighted Voting, Weighted Maximal."
   ]
  },
  {
   "cell_type": "code",
   "execution_count": null,
   "metadata": {},
   "outputs": [],
   "source": [
    "# Perform late data fusion for each combination of descriptors\n",
    "# RDKit 1D, Mordred, PC\n",
    "desc_mordred_pc_weighted_average_results = se_late_data_fusion(data_modalities=['desc','mordred','pc'], endpoint='all', fusion_method='weighted_average',\n",
    "                                                            save_results=True, results_filename='desc_mordred_pc_weighted_average_fusion_safety_results.tsv')\n",
    "desc_mordred_pc_weighted_average_results"
   ]
  },
  {
   "cell_type": "code",
   "execution_count": null,
   "metadata": {},
   "outputs": [],
   "source": [
    "# CP, ECFP4\n",
    "cp_ecfp4_weighted_average_results = se_late_data_fusion(data_modalities=['cp','ecfp4'], endpoint='all', fusion_method='weighted_average',\n",
    "                                                     save_results=True, results_filename='cp_ecfp4_weighted_average_fusion_safety_results.tsv')\n",
    "cp_ecfp4_weighted_average_results"
   ]
  },
  {
   "cell_type": "code",
   "execution_count": null,
   "metadata": {},
   "outputs": [],
   "source": [
    "# CP, RDKit 1D, Mordred, PC\n",
    "cp_desc_mordred_pc_weighted_average_results = se_late_data_fusion(data_modalities=['cp','desc','mordred','pc'], endpoint='all', fusion_method='weighted_average',\n",
    "                                                               save_results=True, results_filename='cp_desc_mordred_pc_weighted_average_fusion_safety_results.tsv')\n",
    "cp_desc_mordred_pc_weighted_average_results"
   ]
  },
  {
   "cell_type": "code",
   "execution_count": null,
   "metadata": {},
   "outputs": [],
   "source": [
    "# ECFP4, RDKit 1D, Mordred, PC \n",
    "ecfp4_desc_mordred_pc_weighted_average_results = se_late_data_fusion(data_modalities=['ecfp4','desc','mordred','pc'], endpoint='all', fusion_method='weighted_average',\n",
    "                                                                  save_results=True, results_filename='ecfp4_desc_mordred_pc_weighted_average_fusion_safety_results.tsv')\n",
    "ecfp4_desc_mordred_pc_weighted_average_results"
   ]
  },
  {
   "cell_type": "code",
   "execution_count": null,
   "metadata": {},
   "outputs": [],
   "source": [
    "# CP, ECFP4, RDKit 1D, Mordred, PC\n",
    "cp_ecfp4_desc_mordred_pc_weighted_average_results = se_late_data_fusion(data_modalities=['cp','ecfp4','desc','mordred','pc'], endpoint='all', fusion_method='weighted_average',\n",
    "                                                                     save_results=True, results_filename='cp_ecfp4_desc_mordred_pc_weighted_average_fusion_safety_results.tsv')\n",
    "cp_ecfp4_desc_mordred_pc_weighted_average_results"
   ]
  },
  {
   "cell_type": "markdown",
   "metadata": {},
   "source": [
    "## Analysing the Data Fusion results\n",
    "\n",
    "### Loading the results"
   ]
  },
  {
   "cell_type": "code",
   "execution_count": null,
   "metadata": {},
   "outputs": [],
   "source": [
    "# Load the early-fused results\n",
    "desc_mordred_pc_results_early_fusion = pd.read_csv('data/5_data/desc_mordred_pc_safety_results.tsv', sep='\\t')\n",
    "cp_ecfp4_results_early_fusion = pd.read_csv('data/5_data/cp_ecfp4_safety_results.tsv', sep='\\t')\n",
    "cp_desc_mordred_pc_results_early_fusion = pd.read_csv('data/5_data/cp_desc_mordred_pc_safety_results.tsv', sep='\\t')\n",
    "ecfp4_desc_mordred_pc_results_early_fusion = pd.read_csv('data/5_data/ecfp4_desc_mordred_pc_safety_results.tsv', sep='\\t')\n",
    "cp_ecfp4_desc_mordred_pc_results_early_fusion = pd.read_csv('data/5_data/cp_ecfp4_desc_mordred_pc_safety_results.tsv', sep='\\t')"
   ]
  },
  {
   "cell_type": "code",
   "execution_count": null,
   "metadata": {},
   "outputs": [],
   "source": [
    "# Load the late-fused results\n",
    "desc_mordred_pc_results_late_fusion = pd.read_csv('data/5_data/desc_mordred_pc_weighted_average_fusion_safety_results.tsv', sep='\\t')\n",
    "cp_ecfp4_results_late_fusion = pd.read_csv('data/5_data/cp_ecfp4_weighted_average_fusion_safety_results.tsv', sep='\\t')\n",
    "cp_desc_mordred_pc_results_late_fusion = pd.read_csv('data/5_data/cp_desc_mordred_pc_weighted_average_fusion_safety_results.tsv', sep='\\t')\n",
    "ecfp4_desc_mordred_pc_results_late_fusion = pd.read_csv('data/5_data/ecfp4_desc_mordred_pc_weighted_average_fusion_safety_results.tsv', sep='\\t')\n",
    "cp_ecfp4_desc_mordred_pc_results_late_fusion = pd.read_csv('data/5_data/cp_ecfp4_desc_mordred_pc_weighted_average_fusion_safety_results.tsv', sep='\\t')"
   ]
  },
  {
   "cell_type": "markdown",
   "metadata": {},
   "source": [
    "### Statistical significance computations\n",
    "\n",
    "We explore each pairwise combination of data sources (including individual descriptors, as well as early-stage and late-fused combinations) and perform a two-sample Kolmogorov-Smirnov (KS) test to assess whether the distributions of scores from the two subsets of models differ significantly."
   ]
  },
  {
   "cell_type": "code",
   "execution_count": null,
   "metadata": {},
   "outputs": [],
   "source": [
    "# Construct the set of distirbutions\n",
    "prauc_distributions = {'CP':cp_results['pr_auc_score'].tolist(), \n",
    "                       'RDKit 1D':desc_results['pr_auc_score'].tolist(), \n",
    "                       'ECFP4':ecfp4_results['pr_auc_score'].tolist(), \n",
    "                       'Mordred':mordred_results['pr_auc_score'].tolist(), \n",
    "                       'PC properties':pc_results['pr_auc_score'].tolist(), \n",
    "                       'RDKit 1D, Mordred, PC (early fusion)':desc_mordred_pc_results_early_fusion['pr_auc_score'].tolist(), \n",
    "                       'CP, ECFP4 (early fusion)':cp_ecfp4_results_early_fusion['pr_auc_score'].tolist(), \n",
    "                       'CP, RDKit 1D, Mordred, PC (early fusion)':cp_desc_mordred_pc_results_early_fusion['pr_auc_score'].tolist(), \n",
    "                       'ECFP4, RDKit 1D, Mordred, PC (early fusion)':ecfp4_desc_mordred_pc_results_early_fusion['pr_auc_score'].tolist(), \n",
    "                       'CP, ECFP4, RDKit 1D, Mordred, PC (early fusion)':cp_ecfp4_desc_mordred_pc_results_early_fusion['pr_auc_score'].tolist(),\n",
    "                       'RDKit 1D, Mordred, PC (late fusion)':desc_mordred_pc_results_late_fusion['pr_auc_score'].tolist(), \n",
    "                       'CP, ECFP4 (late fusion)':cp_ecfp4_results_late_fusion['pr_auc_score'].tolist(), \n",
    "                       'CP, RDKit 1D, Mordred, PC (late fusion)':cp_desc_mordred_pc_results_late_fusion['pr_auc_score'].tolist(), \n",
    "                       'ECFP4, RDKit 1D, Mordred, PC (late fusion)':ecfp4_desc_mordred_pc_results_late_fusion['pr_auc_score'].tolist(), \n",
    "                       'CP, ECFP4, RDKit 1D, Mordred, PC (late fusion)':cp_ecfp4_desc_mordred_pc_results_late_fusion['pr_auc_score'].tolist()}\n",
    "\n",
    "# Compute the two-sample KS test for each pair of distributions\n",
    "ks_test_results = []\n",
    "for data1, data2 in combinations_with_replacement(list(prauc_distributions.keys()), 2):\n",
    "    ks_statistic, p_value = ks_2samp(prauc_distributions[data1], prauc_distributions[data2])\n",
    "    ks_test_results.append({'data1': data1, 'data2': data2, 'ks_statistic': ks_statistic, 'p_value': p_value})\n",
    "\n",
    "# Create the DataFrame containing the results data\n",
    "ks_test_results_df = pd.DataFrame(ks_test_results)\n",
    "ks_test_results_df"
   ]
  }
 ],
 "metadata": {
  "kernelspec": {
   "display_name": "raquel_tfm",
   "language": "python",
   "name": "python3"
  },
  "language_info": {
   "codemirror_mode": {
    "name": "ipython",
    "version": 3
   },
   "file_extension": ".py",
   "mimetype": "text/x-python",
   "name": "python",
   "nbconvert_exporter": "python",
   "pygments_lexer": "ipython3",
   "version": "3.11.4"
  }
 },
 "nbformat": 4,
 "nbformat_minor": 2
}
