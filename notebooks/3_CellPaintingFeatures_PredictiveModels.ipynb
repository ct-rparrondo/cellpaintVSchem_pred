{
 "cells": [
  {
   "cell_type": "markdown",
   "metadata": {},
   "source": [
    "# Cell painting morphological features predictive models\n",
    "\n",
    "We used FLAML, a simple Python library to perform Automated Machine Learning (AutoML), to train individual regressors that predict cell painting morphological features, for each one of the four molecular descriptors: RDKit 1D descriptors, ECFP4 fingerprints, Mordred descriptors, and Physicochemical properties.\n",
    "\n",
    "For each molecular representation, we used the test set (20%) and different regression metrics for evaluating the prediction model performance: R<sup>2</sup> score, Mean Absolute Error (MEA), Mean Squared Error (MSE), and Root Mean Squared Error (RMSE)."
   ]
  },
  {
   "cell_type": "code",
   "execution_count": null,
   "metadata": {},
   "outputs": [],
   "source": [
    "from src.utils import *"
   ]
  },
  {
   "cell_type": "code",
   "execution_count": null,
   "metadata": {},
   "outputs": [],
   "source": [
    "random_seed = 42\n",
    "np.random.seed(random_seed) "
   ]
  },
  {
   "cell_type": "markdown",
   "metadata": {},
   "source": [
    "## Loading of data"
   ]
  },
  {
   "cell_type": "code",
   "execution_count": null,
   "metadata": {},
   "outputs": [],
   "source": [
    "# Create the complete dataset for each molecular representation\n",
    "# RDKit 1D descriptors\n",
    "desc_cp_data = cp_create_complete_dataset('1_data/CellPainting_data.csv', '2_data/CPcompounds_1D_RDKit.tsv')\n",
    "desc_cp_data.head()"
   ]
  },
  {
   "cell_type": "code",
   "execution_count": null,
   "metadata": {},
   "outputs": [],
   "source": [
    "# ECFP4 fingerprints\n",
    "ecfp4_cp_data = cp_create_complete_dataset('1_data/CellPainting_data.csv', '2_data/CPcompounds_ECFP4_1024.tsv')\n",
    "ecfp4_cp_data.head()"
   ]
  },
  {
   "cell_type": "code",
   "execution_count": null,
   "metadata": {},
   "outputs": [],
   "source": [
    "# Mordred descriptors\n",
    "mordred_cp_data = cp_create_complete_dataset('1_data/CellPainting_data.csv', '2_data/CPcompounds_Mordred.tsv')\n",
    "mordred_cp_data.head()"
   ]
  },
  {
   "cell_type": "code",
   "execution_count": null,
   "metadata": {},
   "outputs": [],
   "source": [
    "# Physicochemial properties\n",
    "pc_cp_data = cp_create_complete_dataset('1_data/CellPainting_data.csv', '2_data/CPcompounds_physicochemical_properties.tsv')\n",
    "pc_cp_data.head() "
   ]
  },
  {
   "cell_type": "markdown",
   "metadata": {},
   "source": [
    "## Training and Evaluating the predictive models"
   ]
  },
  {
   "cell_type": "code",
   "execution_count": null,
   "metadata": {},
   "outputs": [],
   "source": [
    "# Train and evaluate predictive models for each descriptor type\n",
    "# RDKit 1D descriptors\n",
    "desc_results = cp_model_training_and_evaluation(desc_cp_data, CP_feature='all', train_split=0.8, verbose_flaml=False, \n",
    "                                                plot_results=False, plot_feature_importance=False, save_results=True, results_filename='desc_cp_results_automl.tsv')\n",
    "desc_results"
   ]
  },
  {
   "cell_type": "code",
   "execution_count": null,
   "metadata": {},
   "outputs": [],
   "source": [
    "# ECFP4 fingerprints\n",
    "ecfp4_results = cp_model_training_and_evaluation(ecfp4_cp_data, CP_feature='all', train_split=0.8, verbose_flaml=False, \n",
    "                                                 plot_results=False, plot_feature_importance=False, save_results=True, results_filename='ecfp4_cp_results_automl.tsv')\n",
    "ecfp4_results"
   ]
  },
  {
   "cell_type": "code",
   "execution_count": null,
   "metadata": {},
   "outputs": [],
   "source": [
    "# Mordred descriptors\n",
    "mordred_results = cp_model_training_and_evaluation(mordred_cp_data, CP_feature='all', train_split=0.8, verbose_flaml=False, \n",
    "                                                   plot_results=False, plot_feature_importance=False, save_results=True, results_filename='mordred_cp_results_automl.tsv')\n",
    "mordred_results"
   ]
  },
  {
   "cell_type": "code",
   "execution_count": null,
   "metadata": {},
   "outputs": [],
   "source": [
    "# Physicochemical properties\n",
    "pc_results = cp_model_training_and_evaluation(pc_cp_data, CP_feature='all', train_split=0.8, verbose_flaml=False, \n",
    "                                              plot_results=False, plot_feature_importance=False, save_results=True, results_filename='pc_cp_results_automl.tsv')\n",
    "pc_results"
   ]
  },
  {
   "cell_type": "markdown",
   "metadata": {},
   "source": [
    "## Analysing the results\n",
    "\n",
    "### Loading the results"
   ]
  },
  {
   "cell_type": "code",
   "execution_count": null,
   "metadata": {},
   "outputs": [],
   "source": [
    "# Load the model results\n",
    "desc_results = pd.read_csv('data/3_data/desc_cp_results_automl.tsv', sep='\\t')\n",
    "ecfp4_results = pd.read_csv('data/3_data/ecfp4_cp_results_automl.tsv', sep='\\t')\n",
    "mordred_results = pd.read_csv('data/3_data/mordred_cp_results_automl.tsv', sep='\\t')\n",
    "pc_results = pd.read_csv('data/3_data/pc_cp_results_automl.tsv', sep='\\t')"
   ]
  },
  {
   "cell_type": "markdown",
   "metadata": {},
   "source": [
    "### Cell Painting features classification\n",
    "\n",
    "To explore if any cell painting feature or class could be better predicted, we categorized the collection of morphological features by:\n",
    "\n",
    "* Compartment: Nuclei, Cells, Cytoplasm.\n",
    "* Channel: DNA, RNA, AGP, Mito, ER. \n",
    "* Feature group: Texture, Intensity, RadialDistribution, Correlation, Granularity, AreaShape."
   ]
  },
  {
   "cell_type": "code",
   "execution_count": null,
   "metadata": {},
   "outputs": [],
   "source": [
    "# Create an empty list to store all new feature names\n",
    "new_classification_names = []\n",
    "\n",
    "# Define the comparments, channels and feature sets\n",
    "Comparments = ['Nuclei','Cells','Cytoplasm']\n",
    "Channels=['DNA','RNA','AGP','Mito','ER']\n",
    "FeatureGroups=['Texture','Intensity','RadialDistribution','Correlation','Granularity','AreaShape'] \n",
    "\n",
    "for feature in desc_results['CP_feature'].tolist():\n",
    "    # Get the list of feature items\n",
    "    items = feature.split('_')\n",
    "\n",
    "    # Get the compartment, channel(s) and group of the feature\n",
    "    feature_compartment = set(items) & set(Comparments)\n",
    "    feature_channels = set(items) & set(Channels)\n",
    "    feature_group = set(items) & set(FeatureGroups)\n",
    "\n",
    "    if len(feature_compartment) == 1 and len(feature_group) == 1:  \n",
    "        # Define the new feature name\n",
    "        if feature_group == {'AreaShape'}:\n",
    "            feature_name = list(feature_compartment)[0]+'_'+list(feature_group)[0]+'_None'\n",
    "        elif len(feature_channels) != 1: # when feature_group == {'Correlation'}\n",
    "            feature_name = list(feature_compartment)[0]+'_'+list(feature_group)[0]+'_'+items[-2]+'_'+items[-1]\n",
    "        elif feature_group != {'Location'}: # exclude 'Location' features \n",
    "            feature_name = list(feature_compartment)[0]+'_'+list(feature_group)[0]+'_'+list(feature_channels)[0]\n",
    "\n",
    "    else:\n",
    "       # Set a null value for the feature name\n",
    "        feature_name = np.nan\n",
    "\n",
    "    # Append the new feature name\n",
    "    new_classification_names.append(feature_name)\n",
    "\n",
    "# Add the new feature names as a column of the four dataframes\n",
    "desc_results.insert(2, 'Feature_classification', new_classification_names)\n",
    "ecfp4_results.insert(2, 'Feature_classification', new_classification_names)\n",
    "mordred_results.insert(2, 'Feature_classification', new_classification_names)\n",
    "pc_results.insert(2, 'Feature_classification', new_classification_names)"
   ]
  }
 ],
 "metadata": {
  "kernelspec": {
   "display_name": "raquel_tfm",
   "language": "python",
   "name": "python3"
  },
  "language_info": {
   "codemirror_mode": {
    "name": "ipython",
    "version": 3
   },
   "file_extension": ".py",
   "mimetype": "text/x-python",
   "name": "python",
   "nbconvert_exporter": "python",
   "pygments_lexer": "ipython3",
   "version": "3.11.4"
  }
 },
 "nbformat": 4,
 "nbformat_minor": 2
}
