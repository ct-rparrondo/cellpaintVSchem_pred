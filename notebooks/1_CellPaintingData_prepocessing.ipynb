{
 "cells": [
  {
   "cell_type": "markdown",
   "metadata": {},
   "source": [
    "# Cell Painting data collection and preprocessing\n",
    "\n",
    "The first step of the project was to gather and preprocess the compound morphological profiles derived from the Cell Painting assays conducted by Bray et. al (doi: 10.1093/gigascience/giw014) that would later be needed to train the models."
   ]
  },
  {
   "cell_type": "code",
   "execution_count": null,
   "metadata": {},
   "outputs": [],
   "source": [
    "from src.utils import *"
   ]
  },
  {
   "cell_type": "markdown",
   "metadata": {},
   "source": [
    "## Loading of Cell Painting data\n",
    "We load the well-level morphological profiles from all plates obtained through the Cell Painting assay. "
   ]
  },
  {
   "cell_type": "code",
   "execution_count": null,
   "metadata": {},
   "outputs": [],
   "source": [
    "# Load the well-level morphological profiles\n",
    "raw_df = load_cellpainting_data('data/profiles.dir', drop_nan_cols=True)\n",
    "raw_df"
   ]
  },
  {
   "cell_type": "markdown",
   "metadata": {},
   "source": [
    "## Preprocessing of Cell Painting data\n",
    "\n",
    "Next, we perform preprocessing of the Cell Painting data. The implemented pipeline is as follows:\n",
    "\n",
    "* Plate-layout effects inspection. We verify the presence of edge effects and gradient artifacts present in most types of plates. \n",
    "\n",
    "* Well-level data preprocessing: Batch-effect correction. To correct for batch effects, we perform TVN transformation, which consists of transforming the morphological features using the Typical Variation Normalization (TVN) transform. It minimizes batch effects by obtaining a feature space where the technical variations sampled from controls (nuisance variation) are neutralized, to enhance the biological signal from treatments.\n",
    "\n",
    "* Treatment-level profiles preprocessing: Well-level data aggregation. To aggregate the well-level profiles per treatment, we perform mean aggregation, which consists of computing the average feature value for each compound and dose combination.\n",
    "\n",
    "* Feature distribution inspection. We examine the density distribution of some features before and after their transformation.\n",
    "\n",
    "* Compound concentrations analysis. We plot the compound concentrations' statistics and distribution in the Cell Painting dataset."
   ]
  },
  {
   "cell_type": "code",
   "execution_count": null,
   "metadata": {},
   "outputs": [],
   "source": [
    "# Perform preprocessing on well-level Cell Painting data\n",
    "processed_df = data_preprocessing(raw_df, \n",
    "                                  well_level_preprocessing='TVN', treatment_aggregation='mean',\n",
    "                                  check_plate_layout_effects=True, check_feature_distribution=True, check_compound_concentrations=True)"
   ]
  },
  {
   "cell_type": "markdown",
   "metadata": {},
   "source": [
    "## Morphological feature selection \n",
    "\n",
    "Next, we perform feature selection on the morphological features resulting from the Cell Painting assay. Several procedures are carried out to obtain the final set of features:\n",
    "\n",
    "* Highly correlated features. We reduce redundancy in the feature set by ensuring that no pair of features has a Pearson Correlation Coefficient above 0.9. For each pair of features identified as highly correlated, the feature with the largest mean absolute correlation with the rest of features is removed.\n",
    "\n",
    "* Invariant features. We remove the features with zero or near-zero variance, which are defined as those with a variance lower than the 1st percentile."
   ]
  },
  {
   "cell_type": "code",
   "execution_count": null,
   "metadata": {},
   "outputs": [],
   "source": [
    "# Perform feature selection on preprocessed treatment-level data\n",
    "features_to_remove = feature_selection(processed_df, \n",
    "                                       correlated_features=True, invariant_features=True)\n",
    "\n",
    "# Remove the selected features from the preprocessed dataframe\n",
    "feature_selection_df = processed_df.drop(processed_df.loc[:, list(features_to_remove)], axis=1)\n",
    "feature_selection_df.shape"
   ]
  }
 ],
 "metadata": {
  "kernelspec": {
   "display_name": "raquel_tfm",
   "language": "python",
   "name": "python3"
  },
  "language_info": {
   "codemirror_mode": {
    "name": "ipython",
    "version": 3
   },
   "file_extension": ".py",
   "mimetype": "text/x-python",
   "name": "python",
   "nbconvert_exporter": "python",
   "pygments_lexer": "ipython3",
   "version": "3.11.4"
  }
 },
 "nbformat": 4,
 "nbformat_minor": 2
}
