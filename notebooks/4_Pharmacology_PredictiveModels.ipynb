{
 "cells": [
  {
   "cell_type": "markdown",
   "metadata": {},
   "source": [
    "# Pharmacology predictive models\n",
    "\n",
    "We trained Gradient Boosting and XGBoost models, using Optuna framework to carefully tune classifier hyperparameters, for each combination of pharmacological endpoint (totalling 322 targets) and input data modality, including: Cell Painting features, RDKit 1D descriptors, ECFP4 fingerprints, Mordred descriptors, and Physicochemical properties.\n",
    "\n",
    "For each descriptor type, we used the test set (20%) and different classification metrics for assessing the prediction model performance: Balanced Accuracy, Precision, Recall, F<sub>1</sub>-score, Area Under Curve-Receiver Operating Characteristic (AUC-ROC), Area Under Curve-Precision Recall (PRAUC or average precision, AP), and MCC (Matthews Correlation Coefficient)."
   ]
  },
  {
   "cell_type": "code",
   "execution_count": null,
   "metadata": {},
   "outputs": [],
   "source": [
    "# Standard Library Imports\n",
    "from itertools import combinations_with_replacement\n",
    "\n",
    "# Third-Party Imports\n",
    "from scipy.stats import ks_2samp\n",
    "\n",
    "# Local Imports\n",
    "from src.utils import *"
   ]
  },
  {
   "cell_type": "markdown",
   "metadata": {},
   "source": [
    "## Loading of data"
   ]
  },
  {
   "cell_type": "code",
   "execution_count": null,
   "metadata": {},
   "outputs": [],
   "source": [
    "# Some specifications\n",
    "missing_cpd = 'FFINMCNLQNTKLU-UHFFFAOYSA-N'\n",
    "nan_cpd = 'DYEFUKCXAQOFHX-UHFFFAOYSA-N'\n",
    "duplicate_cpd = ['NBLBCGUCPBXKOV-UHFFFAOYSA-N','RPXVIAFEQBNEAX-UHFFFAOYSA-N','RWVIMCIPOAXUDG-UHFFFAOYSA-N','UQNAFPHGVPVTAL-UHFFFAOYSA-N']"
   ]
  },
  {
   "cell_type": "code",
   "execution_count": null,
   "metadata": {},
   "outputs": [],
   "source": [
    "# Create the complete dataset for each molecular representation\n",
    "# Cell Painting features\n",
    "cp_target_data = create_complete_dataset('1_data/CellPainting_data_feature_selection.csv', '4_data/target_binary_matrix.csv')\n",
    "cp_target_data = cp_target_data[cp_target_data['CPD_INCHIKEY'] != missing_cpd] # remove the missing compound in the PC dataset\n",
    "cp_target_data = cp_target_data[cp_target_data['CPD_INCHIKEY'] != nan_cpd] # remove the compound with null valyes in the RDKit 1D dataset\n",
    "cp_target_data = cp_target_data.drop(cp_target_data[cp_target_data['CPD_INCHIKEY'].isin(duplicate_cpd)].index.tolist()[::2]) # remove duplicates\n",
    "cp_target_data = cp_target_data.reset_index(drop=True) # reset the index\n",
    "cp_target_data.shape"
   ]
  },
  {
   "cell_type": "code",
   "execution_count": null,
   "metadata": {},
   "outputs": [],
   "source": [
    "# RDKit 1D descriptors\n",
    "desc_target_data = create_complete_dataset('2_data/CPcompounds_1D_RDKit.tsv', '4_data/target_binary_matrix.csv')\n",
    "desc_target_data = desc_target_data[desc_target_data['CPD_INCHIKEY'] != missing_cpd] # Remove the missing compound in the PC dataset\n",
    "desc_target_data = desc_target_data[desc_target_data['CPD_INCHIKEY'] != nan_cpd] # remove the compound with null valyes in the RDKit 1D dataset\n",
    "desc_target_data = desc_target_data.drop(desc_target_data[desc_target_data['CPD_INCHIKEY'].isin(duplicate_cpd)].index.tolist()[::2]) # remove duplicates\n",
    "desc_target_data = desc_target_data.reset_index(drop=True) # reset the index\n",
    "desc_target_data.shape"
   ]
  },
  {
   "cell_type": "code",
   "execution_count": null,
   "metadata": {},
   "outputs": [],
   "source": [
    "# ECFP4 fingerprints\n",
    "ecfp4_target_data = create_complete_dataset('2_data/CPcompounds_ECFP4_1024.tsv', '4_data/target_binary_matrix.csv')\n",
    "ecfp4_target_data = ecfp4_target_data[ecfp4_target_data['CPD_INCHIKEY'] != missing_cpd] # Remove the missing compound in the PC_dataset\n",
    "ecfp4_target_data = ecfp4_target_data[ecfp4_target_data['CPD_INCHIKEY'] != nan_cpd] # remove the compound with null valyes in the RDKit 1D dataset\n",
    "ecfp4_target_data = ecfp4_target_data.drop(ecfp4_target_data[ecfp4_target_data['CPD_INCHIKEY'].isin(duplicate_cpd)].index.tolist()[::2]) # remove duplicates\n",
    "ecfp4_target_data = ecfp4_target_data.reset_index(drop=True) # reset the index\n",
    "ecfp4_target_data.shape"
   ]
  },
  {
   "cell_type": "code",
   "execution_count": null,
   "metadata": {},
   "outputs": [],
   "source": [
    "# Mordred descriptors\n",
    "mordred_target_data = create_complete_dataset('2_data/CPcompounds_Mordred.tsv', '4_data/target_binary_matrix.csv')\n",
    "mordred_target_data = mordred_target_data[mordred_target_data['CPD_INCHIKEY'] != missing_cpd] # Remove the missing compound in the PC dataset\n",
    "mordred_target_data = mordred_target_data[mordred_target_data['CPD_INCHIKEY'] != nan_cpd] # remove the compound with null valyes in the RDKit 1D dataset\n",
    "mordred_target_data = mordred_target_data.drop(mordred_target_data[mordred_target_data['CPD_INCHIKEY'].isin(duplicate_cpd)].index.tolist()[::2]) # remove duplicates\n",
    "mordred_target_data = mordred_target_data.reset_index(drop=True) # reset the index\n",
    "mordred_target_data.shape"
   ]
  },
  {
   "cell_type": "code",
   "execution_count": null,
   "metadata": {},
   "outputs": [],
   "source": [
    "# Physicochemical properties\n",
    "pc_target_data = create_complete_dataset('2_data/CPcompounds_physicochemical_properties.tsv', '4_data/target_binary_matrix.csv')\n",
    "pc_target_data = pc_target_data.drop(columns=['pc_logBB', 'pc_pgp'])\n",
    "pc_target_data = pc_target_data[pc_target_data['CPD_INCHIKEY'] != nan_cpd] # remove the compound with null valyes in the RDKit 1D dataset\n",
    "pc_target_data = pc_target_data.reset_index(drop=True) # reset the index\n",
    "pc_target_data.shape"
   ]
  },
  {
   "cell_type": "markdown",
   "metadata": {},
   "source": [
    "## Training and Evaluating the predictive indiviual models"
   ]
  },
  {
   "cell_type": "code",
   "execution_count": null,
   "metadata": {},
   "outputs": [],
   "source": [
    "# Train and evaluate predictive models for each descriptor type\n",
    "# Cell Painting features\n",
    "cp_results = tg_model_training_and_evaluation(cp_target_data, target='all', check_target_distribution=False, train_split=0.8, \n",
    "                                              verbose_optuna=False, plot_loss_model=False, plot_results=False, plot_feature_importance=False, \n",
    "                                              results_filename='cp_pharmacology_results.tsv')\n",
    "cp_results"
   ]
  },
  {
   "cell_type": "code",
   "execution_count": null,
   "metadata": {},
   "outputs": [],
   "source": [
    "# RDKit 1D descriptors\n",
    "desc_results = tg_model_training_and_evaluation(desc_target_data, target='all', check_target_distribution=False, train_split=0.8,\n",
    "                                                verbose_optuna=False, plot_loss_model=False, plot_results=False, plot_feature_importance=False, \n",
    "                                                results_filename='desc_pharmacology_results.tsv')\n",
    "desc_results"
   ]
  },
  {
   "cell_type": "code",
   "execution_count": null,
   "metadata": {},
   "outputs": [],
   "source": [
    "# ECFP4 fingerprints\n",
    "ecfp4_results = tg_model_training_and_evaluation(ecfp4_target_data, target='all', check_target_distribution=False, train_split=0.8,\n",
    "                                                 verbose_optuna=False, plot_loss_model=False, plot_results=False, plot_feature_importance=False, \n",
    "                                                 results_filename='ecfp4_pharmacology_results.tsv')\n",
    "ecfp4_results"
   ]
  },
  {
   "cell_type": "code",
   "execution_count": null,
   "metadata": {},
   "outputs": [],
   "source": [
    "# Mordred descriptors\n",
    "mordred_results = tg_model_training_and_evaluation(mordred_target_data, target='all', check_target_distribution=False, train_split=0.8,\n",
    "                                                   verbose_optuna=False, plot_loss_model=False, plot_results=False, plot_feature_importance=False, \n",
    "                                                   results_filename='mordred_pharmacology_results.tsv')\n",
    "mordred_results"
   ]
  },
  {
   "cell_type": "code",
   "execution_count": null,
   "metadata": {},
   "outputs": [],
   "source": [
    "# Physicochemical properties\n",
    "pc_results = tg_model_training_and_evaluation(pc_target_data, target='all', check_target_distribution=False, train_split=0.8,\n",
    "                                              verbose_optuna=False, plot_loss_model=False, plot_results=False, plot_feature_importance=False, \n",
    "                                              results_filename='pc_pharmacology_results.tsv')\n",
    "pc_results"
   ]
  },
  {
   "cell_type": "markdown",
   "metadata": {},
   "source": [
    "## Analysing the results\n",
    "\n",
    "### Loading the results"
   ]
  },
  {
   "cell_type": "code",
   "execution_count": null,
   "metadata": {},
   "outputs": [],
   "source": [
    "# Load the individual results\n",
    "cp_results = pd.read_csv('data/4_data/cp_pharmacology_results.tsv', sep='\\t')\n",
    "desc_results = pd.read_csv('data/4_data/desc_pharmacology_results.tsv', sep='\\t')\n",
    "ecfp4_results = pd.read_csv('data/4_data/ecfp4_pharmacology_results.tsv', sep='\\t')\n",
    "mordred_results = pd.read_csv('data/4_data/mordred_pharmacology_results.tsv', sep='\\t')\n",
    "pc_results = pd.read_csv('data/4_data/pc_pharmacology_results.tsv', sep='\\t')"
   ]
  },
  {
   "cell_type": "code",
   "execution_count": null,
   "metadata": {},
   "outputs": [],
   "source": [
    "# Select the best model for each target and descriptor type\n",
    "cp_best_models = get_best_model(cp_results, metrics='f1_score(validation)')\n",
    "desc_best_models = get_best_model(desc_results, metrics='f1_score(validation)')\n",
    "ecfp4_best_models = get_best_model(ecfp4_results, metrics='f1_score(validation)')\n",
    "mordred_best_models = get_best_model(mordred_results, metrics='f1_score(validation)')\n",
    "pc_best_models = get_best_model(pc_results, metrics='f1_score(validation)')"
   ]
  },
  {
   "cell_type": "markdown",
   "metadata": {},
   "source": [
    "### Gene Ontology (GO) classification\n",
    "\n",
    "Gene Ontology (GO) classification is a system for annotating genes and gene products (such as targets) with terms that describe their biological processes, cellular components, and molecular functions. \n",
    "\n",
    "Subsequenntly, we use these GO terms to perform enrichment analyses to identify over-represented biological themes within the identified target sets."
   ]
  },
  {
   "cell_type": "code",
   "execution_count": null,
   "metadata": {},
   "outputs": [],
   "source": [
    "# Get the target names for each data modality\n",
    "cp_to_target_names = get_target_names(cp_best_models)\n",
    "desc_to_target_names = get_target_names(desc_best_models)\n",
    "ecfp4_to_target_names = get_target_names(ecfp4_best_models)\n",
    "mordred_to_target_names = get_target_names(mordred_best_models)\n",
    "pc_to_target_names = get_target_names(pc_best_models)"
   ]
  },
  {
   "cell_type": "code",
   "execution_count": null,
   "metadata": {},
   "outputs": [],
   "source": [
    "# Get the target names and the annotated GO terms for each data modality \n",
    "cp_to_go_terms = get_target_go_annotations(cp_best_models)\n",
    "desc_to_go_terms = get_target_go_annotations(desc_best_models)\n",
    "ecfp4_to_go_terms = get_target_go_annotations(ecfp4_best_models)\n",
    "mordred_to_go_terms = get_target_go_annotations(mordred_best_models)\n",
    "pc_to_go_terms = get_target_go_annotations(pc_best_models)"
   ]
  },
  {
   "cell_type": "markdown",
   "metadata": {},
   "source": [
    "# EARLY DATA FUSION\n",
    "\n",
    "The first strategy to combine information from different source is early data fusion, where feature vectors from two or more modalities are simply concatenated into a single vector.\n",
    "\n",
    "In the early fusion approach, we perform simple feature selection to reduce feature set's dimensions, using the SelectKBest function to identify the 1,000 most correlated features with the label.\n",
    "\n",
    "### Combining data modalities"
   ]
  },
  {
   "cell_type": "code",
   "execution_count": null,
   "metadata": {},
   "outputs": [],
   "source": [
    "# Combine descriptor types\n",
    "# RDKit 1D, Mordred, PC\n",
    "desc_mordred_pc_target_data = combine_data_sources(desc_target_data, mordred_target_data, pc_target_data)\n",
    "desc_mordred_pc_target_data.shape"
   ]
  },
  {
   "cell_type": "code",
   "execution_count": null,
   "metadata": {},
   "outputs": [],
   "source": [
    "# CP, ECFP4\n",
    "cp_ecfp4_target_data = combine_data_sources(cp_target_data, ecfp4_target_data)\n",
    "cp_ecfp4_target_data.shape"
   ]
  },
  {
   "cell_type": "code",
   "execution_count": null,
   "metadata": {},
   "outputs": [],
   "source": [
    "# CP, RDKit 1D, Mordred, PC\n",
    "cp_desc_mordred_pc_target_data = combine_data_sources(cp_target_data, desc_mordred_pc_target_data)\n",
    "cp_desc_mordred_pc_target_data.shape"
   ]
  },
  {
   "cell_type": "code",
   "execution_count": null,
   "metadata": {},
   "outputs": [],
   "source": [
    "# ECFP4, RDKit 1D, Mordred, PC \n",
    "ecfp4_desc_mordred_pc_target_data = combine_data_sources(ecfp4_target_data, desc_mordred_pc_target_data)\n",
    "ecfp4_desc_mordred_pc_target_data.shape"
   ]
  },
  {
   "cell_type": "code",
   "execution_count": null,
   "metadata": {},
   "outputs": [],
   "source": [
    "# CP, ECFP4, RDKit 1D, Mordred, PC\n",
    "cp_ecfp4_desc_mordred_pc_target_data = combine_data_sources(cp_target_data, ecfp4_desc_mordred_pc_target_data)\n",
    "cp_ecfp4_desc_mordred_pc_target_data.shape"
   ]
  },
  {
   "cell_type": "markdown",
   "metadata": {},
   "source": [
    "### Training and Evaluating the early-stage models"
   ]
  },
  {
   "cell_type": "code",
   "execution_count": null,
   "metadata": {},
   "outputs": [],
   "source": [
    "# Train and evaluate predictive models for each combination of descriptors\n",
    "# RDKit 1D, Mordred, PC\n",
    "desc_mordred_pc_results = tg_early_fusion_model_training_and_evaluation(desc_mordred_pc_target_data, target='all', k_features=1000, check_target_distribution=False, train_split=0.8,\n",
    "                                                        verbose_optuna=False, plot_loss_model=False, plot_results=False, plot_feature_importance=False, \n",
    "                                                        results_filename='desc_mordred_pc_pharmacology_results.tsv')\n",
    "desc_mordred_pc_results"
   ]
  },
  {
   "cell_type": "code",
   "execution_count": null,
   "metadata": {},
   "outputs": [],
   "source": [
    "# CP, ECFP4\n",
    "cp_ecfp4_results = tg_early_fusion_model_training_and_evaluation(cp_ecfp4_target_data, target='all', k_features=1000, check_target_distribution=False, train_split=0.8,\n",
    "                                                 verbose_optuna=False, plot_loss_model=False, plot_results=False, plot_feature_importance=False, \n",
    "                                                 results_filename='cp_ecfp4_pharmacology_results.tsv')\n",
    "cp_ecfp4_results"
   ]
  },
  {
   "cell_type": "code",
   "execution_count": null,
   "metadata": {},
   "outputs": [],
   "source": [
    "# CP, RDKit 1D, Mordred, PC\n",
    "cp_desc_mordred_pc_results = tg_early_fusion_model_training_and_evaluation(cp_desc_mordred_pc_target_data, target='all', k_features=1000, check_target_distribution=False, train_split=0.8,\n",
    "                                                           verbose_optuna=False, plot_loss_model=False, plot_results=False, plot_feature_importance=False, \n",
    "                                                           results_filename='cp_desc_mordred_pc_pharmacology_results.tsv')\n",
    "cp_desc_mordred_pc_results"
   ]
  },
  {
   "cell_type": "code",
   "execution_count": null,
   "metadata": {},
   "outputs": [],
   "source": [
    "# ECFP4, RDKit 1D, Mordred, PC \n",
    "ecfp4_desc_mordred_pc_results = tg_early_fusion_model_training_and_evaluation(ecfp4_desc_mordred_pc_target_data, target='all', k_features=1000, check_target_distribution=False, train_split=0.8,\n",
    "                                                              verbose_optuna=False, plot_loss_model=False, plot_results=False, plot_feature_importance=False, \n",
    "                                                              results_filename='ecfp4_desc_mordred_pc_pharmacology_results.tsv')\n",
    "ecfp4_desc_mordred_pc_results"
   ]
  },
  {
   "cell_type": "code",
   "execution_count": null,
   "metadata": {},
   "outputs": [],
   "source": [
    "# CP, ECFP4, RDKit 1D, Mordred, PC\n",
    "cp_ecfp4_desc_mordred_pc_results = tg_early_fusion_model_training_and_evaluation(cp_ecfp4_desc_mordred_pc_target_data, target='all', k_features=1000, check_target_distribution=False, train_split=0.8,\n",
    "                                                                 verbose_optuna=False, plot_loss_model=False, plot_results=False, plot_feature_importance=False, \n",
    "                                                                 results_filename='cp_ecfp4_desc_mordred_pc_pharmacology_results.tsv')\n",
    "cp_ecfp4_desc_mordred_pc_results"
   ]
  },
  {
   "cell_type": "markdown",
   "metadata": {},
   "source": [
    "# LATE DATA FUSION\n",
    "\n",
    "The second strategy to combine information from different sources is late data fusion, wherein each modality is used to train a separate model and then the prediction probabilities for a new sample are aggregated using different strategies.\n",
    "\n",
    "In the late fusion approach, we employ six multi-modal fusion methods to aggregate probabilities from the classifiers trained on each modality separately: Average, Voting, Maximal, Weighted Average, Weighted Voting, Weighted Maximal."
   ]
  },
  {
   "cell_type": "code",
   "execution_count": null,
   "metadata": {},
   "outputs": [],
   "source": [
    "# Perform late data fusion for each combination of descriptors\n",
    "# RDKit 1D, Mordred, PC\n",
    "desc_mordred_pc_weighted_average_results = tg_late_data_fusion(data_modalities=['desc','mordred','pc'], target='all', fusion_method='weighted_average',\n",
    "                                                               save_results=True, results_filename='desc_mordred_pc_weighted_average_fusion_pharmacology_results.tsv')\n",
    "desc_mordred_pc_weighted_average_results"
   ]
  },
  {
   "cell_type": "code",
   "execution_count": null,
   "metadata": {},
   "outputs": [],
   "source": [
    "# CP, ECFP4\n",
    "cp_ecfp4_weighted_average_results = tg_late_data_fusion(data_modalities=['cp','ecfp4'], target='all', fusion_method='weighted_average',\n",
    "                                                        save_results=True, results_filename='cp_ecfp4_weighted_average_fusion_pharmacology_results.tsv')\n",
    "cp_ecfp4_weighted_average_results"
   ]
  },
  {
   "cell_type": "code",
   "execution_count": null,
   "metadata": {},
   "outputs": [],
   "source": [
    "# CP, RDKit 1D, Mordred, PC\n",
    "cp_desc_mordred_pc_weighted_average_results = tg_late_data_fusion(data_modalities=['cp','desc','mordred','pc'], target='all', fusion_method='weighted_average',\n",
    "                                                                  save_results=True, results_filename='cp_desc_mordred_pc_weighted_average_fusion_pharmacology_results.tsv')\n",
    "cp_desc_mordred_pc_weighted_average_results"
   ]
  },
  {
   "cell_type": "code",
   "execution_count": null,
   "metadata": {},
   "outputs": [],
   "source": [
    "# ECFP4, RDKit 1D, Mordred, PC \n",
    "ecfp4_desc_mordred_pc_weighted_average_results = tg_late_data_fusion(data_modalities=['ecfp4','desc','mordred','pc'], target='all', fusion_method='weighted_average',\n",
    "                                                                     save_results=True, results_filename='ecfp4_desc_mordred_pc_weighted_average_fusion_pharmacology_results.tsv')\n",
    "ecfp4_desc_mordred_pc_weighted_average_results"
   ]
  },
  {
   "cell_type": "code",
   "execution_count": null,
   "metadata": {},
   "outputs": [],
   "source": [
    "# CP, ECFP4, RDKit 1D, Mordred, PC\n",
    "cp_ecfp4_desc_mordred_pc_weighted_average_results = tg_late_data_fusion(data_modalities=['cp','ecfp4','desc','mordred','pc'], target='all', fusion_method='weighted_average',\n",
    "                                                                        save_results=True, results_filename='cp_ecfp4_desc_mordred_pc_weighted_average_fusion_pharmacology_results.tsv')\n",
    "cp_ecfp4_desc_mordred_pc_weighted_average_results"
   ]
  },
  {
   "cell_type": "markdown",
   "metadata": {},
   "source": [
    "## Analysing the Data Fusion results\n",
    "\n",
    "### Loading the results"
   ]
  },
  {
   "cell_type": "code",
   "execution_count": null,
   "metadata": {},
   "outputs": [],
   "source": [
    "# Load the early-fused results\n",
    "desc_mordred_pc_results_early_fusion = pd.read_csv('data/4_data/desc_mordred_pc_pharmacology_results.tsv', sep='\\t')\n",
    "cp_ecfp4_results_early_fusion = pd.read_csv('data/4_data/cp_ecfp4_pharmacology_results.tsv', sep='\\t')\n",
    "cp_desc_mordred_pc_results_early_fusion = pd.read_csv('data/4_data/cp_desc_mordred_pc_pharmacology_results.tsv', sep='\\t')\n",
    "ecfp4_desc_mordred_pc_results_early_fusion = pd.read_csv('data/4_data/ecfp4_desc_mordred_pc_pharmacology_results.tsv', sep='\\t')\n",
    "cp_ecfp4_desc_mordred_pc_results_early_fusion = pd.read_csv('data/4_data/cp_ecfp4_desc_mordred_pc_pharmacology_results.tsv', sep='\\t')"
   ]
  },
  {
   "cell_type": "code",
   "execution_count": null,
   "metadata": {},
   "outputs": [],
   "source": [
    "# Select the best model for each target and descriptor combination\n",
    "desc_mordred_pc_best_models = get_best_model(desc_mordred_pc_results_early_fusion, metrics='f1_score(validation)')\n",
    "cp_ecfp4_best_models = get_best_model(cp_ecfp4_results_early_fusion, metrics='f1_score(validation)')\n",
    "cp_desc_mordred_pc_best_models = get_best_model(cp_desc_mordred_pc_results_early_fusion, metrics='f1_score(validation)')\n",
    "ecfp4_desc_mordred_pc_best_models = get_best_model(ecfp4_desc_mordred_pc_results_early_fusion, metrics='f1_score(validation)')\n",
    "cp_ecfp4_desc_mordred_pc_best_models = get_best_model(cp_ecfp4_desc_mordred_pc_results_early_fusion, metrics='f1_score(validation)')"
   ]
  },
  {
   "cell_type": "code",
   "execution_count": null,
   "metadata": {},
   "outputs": [],
   "source": [
    "# Load the late-fused results\n",
    "desc_mordred_pc_results_late_fusion = pd.read_csv('data/4_data/desc_mordred_pc_weighted_average_fusion_pharmacology_results.tsv', sep='\\t')\n",
    "cp_ecfp4_results_late_fusion = pd.read_csv('data/4_data/cp_ecfp4_weighted_average_fusion_pharmacology_results.tsv', sep='\\t')\n",
    "cp_desc_mordred_pc_results_late_fusion = pd.read_csv('data/4_data/cp_desc_mordred_pc_weighted_average_fusion_pharmacology_results.tsv', sep='\\t')\n",
    "ecfp4_desc_mordred_pc_results_late_fusion = pd.read_csv('data/4_data/ecfp4_desc_mordred_pc_weighted_average_fusion_pharmacology_results.tsv', sep='\\t')\n",
    "cp_ecfp4_desc_mordred_pc_results_late_fusion = pd.read_csv('data/4_data/cp_ecfp4_desc_mordred_pc_weighted_average_fusion_pharmacology_results.tsv', sep='\\t')"
   ]
  },
  {
   "cell_type": "markdown",
   "metadata": {},
   "source": [
    "### Statistical significance computations\n",
    "\n",
    "We explore each pairwise combination of data sources (including individual descriptors, as well as early-stage and late-fused combinations) and perform a two-sample Kolmogorov-Smirnov (KS) test to assess whether the distributions of scores from the two subsets of models differ significantly."
   ]
  },
  {
   "cell_type": "code",
   "execution_count": null,
   "metadata": {},
   "outputs": [],
   "source": [
    "# Construct the set of distirbutions\n",
    "prauc_distributions = {'CP':cp_best_models['pr_auc_score'].tolist(), \n",
    "                       'RDKit 1D':desc_best_models['pr_auc_score'].tolist(), \n",
    "                       'ECFP4':ecfp4_best_models['pr_auc_score'].tolist(), \n",
    "                       'Mordred':mordred_best_models['pr_auc_score'].tolist(), \n",
    "                       'PC properties':pc_best_models['pr_auc_score'].tolist(), \n",
    "                       'RDKit 1D, Mordred, PC (early fusion)':desc_mordred_pc_best_models['pr_auc_score'].tolist(), \n",
    "                       'CP, ECFP4 (early fusion)':cp_ecfp4_best_models['pr_auc_score'].tolist(), \n",
    "                       'CP, RDKit 1D, Mordred, PC (early fusion)':cp_desc_mordred_pc_best_models['pr_auc_score'].tolist(), \n",
    "                       'ECFP4, RDKit 1D, Mordred, PC (early fusion)':ecfp4_desc_mordred_pc_best_models['pr_auc_score'].tolist(), \n",
    "                       'CP, ECFP4, RDKit 1D, Mordred, PC (early fusion)':cp_ecfp4_desc_mordred_pc_best_models['pr_auc_score'].tolist(),\n",
    "                       'RDKit 1D, Mordred, PC (late fusion)':desc_mordred_pc_results_late_fusion['pr_auc_score'].tolist(), \n",
    "                       'CP, ECFP4 (late fusion)':cp_ecfp4_results_late_fusion['pr_auc_score'].tolist(), \n",
    "                       'CP, RDKit 1D, Mordred, PC (late fusion)':cp_desc_mordred_pc_results_late_fusion['pr_auc_score'].tolist(), \n",
    "                       'ECFP4, RDKit 1D, Mordred, PC (late fusion)':ecfp4_desc_mordred_pc_results_late_fusion['pr_auc_score'].tolist(), \n",
    "                       'CP, ECFP4, RDKit 1D, Mordred, PC (late fusion)':cp_ecfp4_desc_mordred_pc_results_late_fusion['pr_auc_score'].tolist()}\n",
    "\n",
    "# Compute the two-sample KS test for each pair of distributions\n",
    "ks_test_results = []\n",
    "for data1, data2 in combinations_with_replacement(list(prauc_distributions.keys()), 2):\n",
    "    ks_statistic, p_value = ks_2samp(prauc_distributions[data1], prauc_distributions[data2])\n",
    "    ks_test_results.append({'data1': data1, 'data2': data2, 'ks_statistic': ks_statistic, 'p_value': p_value})\n",
    "\n",
    "# Create the DataFrame containing the results data\n",
    "ks_test_results_df = pd.DataFrame(ks_test_results)\n",
    "ks_test_results_df"
   ]
  }
 ],
 "metadata": {
  "kernelspec": {
   "display_name": "raquel_tfm",
   "language": "python",
   "name": "python3"
  },
  "language_info": {
   "codemirror_mode": {
    "name": "ipython",
    "version": 3
   },
   "file_extension": ".py",
   "mimetype": "text/x-python",
   "name": "python",
   "nbconvert_exporter": "python",
   "pygments_lexer": "ipython3",
   "version": "3.11.4"
  }
 },
 "nbformat": 4,
 "nbformat_minor": 2
}
